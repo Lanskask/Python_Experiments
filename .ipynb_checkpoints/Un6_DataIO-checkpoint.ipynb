{
 "cells": [
  {
   "cell_type": "markdown",
   "metadata": {},
   "source": [
    "# Data IO"
   ]
  },
  {
   "cell_type": "code",
   "execution_count": 1,
   "metadata": {},
   "outputs": [],
   "source": [
    "import pandas as pd"
   ]
  },
  {
   "cell_type": "code",
   "execution_count": 2,
   "metadata": {},
   "outputs": [
    {
     "data": {
      "text/plain": [
       "'/home/a1/0_Programming/Python_Experiments'"
      ]
     },
     "execution_count": 2,
     "metadata": {},
     "output_type": "execute_result"
    }
   ],
   "source": [
    "pwd"
   ]
  },
  {
   "cell_type": "code",
   "execution_count": 3,
   "metadata": {},
   "outputs": [
    {
     "name": "stdout",
     "output_type": "stream",
     "text": [
      "\u001b[0m\u001b[01;34mBigData_Exp\u001b[0m/   Un4_DataMining.ipynb           Untitled1.ipynb\r\n",
      "\u001b[01;34mDjAdm_Test1\u001b[0m/   Un_4_Pandas_JoiningSoOn.ipynb  Untitled2_PandasBasics.ipynb\r\n",
      "\u001b[01;34mFlask_Expers\u001b[0m/  Un5_PandOperations.ipynb       Untitled3.ipynb\r\n",
      "\u001b[01;34mMySite_test1\u001b[0m/  Un6_DataIO.ipynb               Untitled.ipynb\r\n",
      "README.md      \u001b[01;34mundefined_2.txt\u001b[0m/               untitled.txt\r\n"
     ]
    }
   ],
   "source": [
    "ls"
   ]
  },
  {
   "cell_type": "code",
   "execution_count": null,
   "metadata": {},
   "outputs": [],
   "source": []
  }
 ],
 "metadata": {
  "kernelspec": {
   "display_name": "Python 3",
   "language": "python",
   "name": "python3"
  },
  "language_info": {
   "codemirror_mode": {
    "name": "ipython",
    "version": 3
   },
   "file_extension": ".py",
   "mimetype": "text/x-python",
   "name": "python",
   "nbconvert_exporter": "python",
   "pygments_lexer": "ipython3",
   "version": "3.5.3"
  }
 },
 "nbformat": 4,
 "nbformat_minor": 2
}
