{
 "cells": [
  {
   "cell_type": "code",
   "execution_count": 1,
   "metadata": {},
   "outputs": [
    {
     "name": "stderr",
     "output_type": "stream",
     "text": [
      "/Users/smurtazin/anaconda3/lib/python3.7/site-packages/IPython/config.py:13: ShimWarning: The `IPython.config` package has been deprecated since IPython 4.0. You should import from traitlets.config instead.\n",
      "  \"You should import from traitlets.config instead.\", ShimWarning)\n",
      "/Users/smurtazin/anaconda3/lib/python3.7/site-packages/ipycache.py:17: UserWarning: IPython.utils.traitlets has moved to a top-level traitlets package.\n",
      "  from IPython.utils.traitlets import Unicode\n"
     ]
    }
   ],
   "source": [
    "%load_ext ipycache"
   ]
  },
  {
   "cell_type": "code",
   "execution_count": 2,
   "metadata": {},
   "outputs": [
    {
     "name": "stdout",
     "output_type": "stream",
     "text": [
      "[Saved variables 'var1, var2' to file '/Users/smurtazin/Programming/Python/test_cache/mycache.pkl'.]\n"
     ]
    }
   ],
   "source": [
    "%%cache mycache.pkl var1 var2\n",
    "var1 = 1\n",
    "var2 = 2"
   ]
  },
  {
   "cell_type": "code",
   "execution_count": 4,
   "metadata": {},
   "outputs": [
    {
     "data": {
      "image/svg+xml": [
       "<path fill=\"none\" \n",
       "stroke=\"black\" d=\"M 227 239 L 328 90 L 346 250 L 201 124 L 410 150 L 228 238\" />\n"
      ],
      "text/plain": [
       "<IPython.core.display.SVG object>"
      ]
     },
     "metadata": {},
     "output_type": "display_data"
    }
   ],
   "source": [
    "%%svg\n",
    "<path fill=\"none\" \n",
    "stroke=\"black\" d=\"M 227 239 L 328 90 L 346 250 L 201 124 L 410 150 L 228 238\" />"
   ]
  },
  {
   "cell_type": "code",
   "execution_count": 5,
   "metadata": {},
   "outputs": [
    {
     "data": {
      "image/svg+xml": [
       "<svg>  \n",
       "<line stroke=\"rgb(0,0,0)\" stroke-width=\"1\" x1=\"0\" x2=\"200\" y1=\"0\" y2=\"200\"/>  \n",
       "</svg>"
      ],
      "text/plain": [
       "<IPython.core.display.SVG object>"
      ]
     },
     "metadata": {},
     "output_type": "display_data"
    }
   ],
   "source": [
    "%%svg\n",
    "<svg>  \n",
    "<line x1=\"0\" y1=\"0\" x2=\"200\" y2=\"200\" stroke-width=\"1\" stroke=\"rgb(0,0,0)\"/>  \n",
    "</svg>  "
   ]
  },
  {
   "cell_type": "code",
   "execution_count": 7,
   "metadata": {},
   "outputs": [
    {
     "data": {
      "image/svg+xml": [
       "<svg>\n",
       "<polyline fill=\"rgb(249,249,249)\" points=\"0,0 50,0 150,100 250,100 300,150\" stroke=\"rgb(0,20,0)\" stroke-width=\"5\"/>\n",
       "</svg>"
      ],
      "text/plain": [
       "<IPython.core.display.SVG object>"
      ]
     },
     "metadata": {},
     "output_type": "display_data"
    }
   ],
   "source": [
    "%%svg\n",
    "<svg>\n",
    "<polyline points=\"0,0 50,0 150,100 250,100 300,150\" fill=\"rgb(249,249,249)\" stroke-width=\"5\" stroke=\"rgb(0,20,0)\"/>\n",
    "</svg>"
   ]
  },
  {
   "cell_type": "code",
   "execution_count": null,
   "metadata": {},
   "outputs": [],
   "source": []
  }
 ],
 "metadata": {
  "kernelspec": {
   "display_name": "Python 3",
   "language": "python",
   "name": "python3"
  },
  "language_info": {
   "codemirror_mode": {
    "name": "ipython",
    "version": 3
   },
   "file_extension": ".py",
   "mimetype": "text/x-python",
   "name": "python",
   "nbconvert_exporter": "python",
   "pygments_lexer": "ipython3",
   "version": "3.7.3"
  }
 },
 "nbformat": 4,
 "nbformat_minor": 2
}
