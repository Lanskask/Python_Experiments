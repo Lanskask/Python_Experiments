{
 "cells": [
  {
   "cell_type": "code",
   "execution_count": 1,
   "metadata": {},
   "outputs": [],
   "source": [
    "import numpy as np"
   ]
  },
  {
   "cell_type": "markdown",
   "metadata": {},
   "source": [
    "```\n",
    "a + b + 0 + 0 = 8\n",
    "0 + 0 + c - d = 6\n",
    "a + 0 + c + 0 = 13\n",
    "0 + b + 0 + d = 8\n",
    "```"
   ]
  },
  {
   "cell_type": "code",
   "execution_count": 34,
   "metadata": {},
   "outputs": [],
   "source": [
    "a = [\n",
    "        [1,1,0,0], \n",
    "        [0,0,1,-1], \n",
    "        [1,0,1,0], \n",
    "        [0,1,0,1]\n",
    "    ]\n",
    "\n",
    "b = [8,6,13,8]"
   ]
  },
  {
   "cell_type": "code",
   "execution_count": 36,
   "metadata": {},
   "outputs": [
    {
     "name": "stdout",
     "output_type": "stream",
     "text": [
      "a: 3.5; b: 4.5; c: 9.5; d: 3.5\n"
     ]
    }
   ],
   "source": [
    "x = np.linalg.solve(a, b)\n",
    "x_a, x_b, x_c, x_d = x\n",
    "print(f\"a: {x_a}; b: {x_b}; c: {x_c}; d: {x_d}\")"
   ]
  },
  {
   "cell_type": "code",
   "execution_count": 45,
   "metadata": {},
   "outputs": [
    {
     "name": "stdout",
     "output_type": "stream",
     "text": [
      "All Right\n"
     ]
    }
   ],
   "source": [
    "try: \n",
    "    assert(x_a + x_b == 8)\n",
    "    assert(x_c - x_d == 6)\n",
    "    assert(x_a + x_c == 13)\n",
    "    assert(x_b + x_d == 8)\n",
    "    print(\"All Right\")    \n",
    "except AssertionError:\n",
    "    print(\"Something wrong\")\n",
    "    raise AssertionError(\"Something wrong\")"
   ]
  },
  {
   "cell_type": "code",
   "execution_count": null,
   "metadata": {},
   "outputs": [],
   "source": []
  }
 ],
 "metadata": {
  "kernelspec": {
   "display_name": "Python 3",
   "language": "python",
   "name": "python3"
  },
  "language_info": {
   "codemirror_mode": {
    "name": "ipython",
    "version": 3
   },
   "file_extension": ".py",
   "mimetype": "text/x-python",
   "name": "python",
   "nbconvert_exporter": "python",
   "pygments_lexer": "ipython3",
   "version": "3.7.3"
  }
 },
 "nbformat": 4,
 "nbformat_minor": 2
}
