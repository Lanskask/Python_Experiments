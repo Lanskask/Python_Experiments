{
 "cells": [
  {
   "cell_type": "code",
   "execution_count": 9,
   "metadata": {},
   "outputs": [],
   "source": [
    "import pandas as pd\n",
    "import numpy as np\n",
    "import seaborn as sns\n",
    "%matplotlib inline"
   ]
  },
  {
   "cell_type": "code",
   "execution_count": 2,
   "metadata": {},
   "outputs": [
    {
     "data": {
      "text/plain": [
       "'/home/a1/0_Programming/Python_Experiments/BigData_Exp'"
      ]
     },
     "execution_count": 2,
     "metadata": {},
     "output_type": "execute_result"
    }
   ],
   "source": [
    "pwd"
   ]
  },
  {
   "cell_type": "code",
   "execution_count": 6,
   "metadata": {},
   "outputs": [],
   "source": [
    "df = pd.read_excel('/home/a1/0_Programming/Python_Experiments/BigData_Exp/Hackaton/Задача1/1. Clustering/Lab_Curves.xlsx')"
   ]
  },
  {
   "cell_type": "code",
   "execution_count": 17,
   "metadata": {},
   "outputs": [
    {
     "data": {
      "text/html": [
       "<div>\n",
       "<style scoped>\n",
       "    .dataframe tbody tr th:only-of-type {\n",
       "        vertical-align: middle;\n",
       "    }\n",
       "\n",
       "    .dataframe tbody tr th {\n",
       "        vertical-align: top;\n",
       "    }\n",
       "\n",
       "    .dataframe thead th {\n",
       "        text-align: right;\n",
       "    }\n",
       "</style>\n",
       "<table border=\"1\" class=\"dataframe\">\n",
       "  <thead>\n",
       "    <tr style=\"text-align: right;\">\n",
       "      <th></th>\n",
       "      <th>Label</th>\n",
       "      <th>Reference</th>\n",
       "      <th>Location</th>\n",
       "      <th>Characteristic_1</th>\n",
       "      <th>Characteristic_2</th>\n",
       "      <th>Fluid_Fraction</th>\n",
       "      <th>Lab_Pressure</th>\n",
       "    </tr>\n",
       "  </thead>\n",
       "  <tbody>\n",
       "    <tr>\n",
       "      <th>0</th>\n",
       "      <td>5335.96</td>\n",
       "      <td>131.932492</td>\n",
       "      <td>Well 1</td>\n",
       "      <td>0.100946</td>\n",
       "      <td>0.453484</td>\n",
       "      <td>0.783000</td>\n",
       "      <td>1.177763</td>\n",
       "    </tr>\n",
       "    <tr>\n",
       "      <th>2295</th>\n",
       "      <td>5649.84</td>\n",
       "      <td>98.878233</td>\n",
       "      <td>Well 1</td>\n",
       "      <td>0.137093</td>\n",
       "      <td>21.170645</td>\n",
       "      <td>0.425350</td>\n",
       "      <td>24.953852</td>\n",
       "    </tr>\n",
       "    <tr>\n",
       "      <th>2296</th>\n",
       "      <td>5649.84</td>\n",
       "      <td>98.878233</td>\n",
       "      <td>Well 1</td>\n",
       "      <td>0.137093</td>\n",
       "      <td>21.170645</td>\n",
       "      <td>0.413627</td>\n",
       "      <td>27.309378</td>\n",
       "    </tr>\n",
       "    <tr>\n",
       "      <th>2297</th>\n",
       "      <td>5649.84</td>\n",
       "      <td>98.878233</td>\n",
       "      <td>Well 1</td>\n",
       "      <td>0.137093</td>\n",
       "      <td>21.170645</td>\n",
       "      <td>0.402214</td>\n",
       "      <td>29.885734</td>\n",
       "    </tr>\n",
       "    <tr>\n",
       "      <th>2298</th>\n",
       "      <td>5649.84</td>\n",
       "      <td>98.878233</td>\n",
       "      <td>Well 1</td>\n",
       "      <td>0.137093</td>\n",
       "      <td>21.170645</td>\n",
       "      <td>0.391484</td>\n",
       "      <td>32.830142</td>\n",
       "    </tr>\n",
       "    <tr>\n",
       "      <th>22358</th>\n",
       "      <td>590.52</td>\n",
       "      <td>2429.500000</td>\n",
       "      <td>Well 4</td>\n",
       "      <td>0.138733</td>\n",
       "      <td>5.850000</td>\n",
       "      <td>0.568637</td>\n",
       "      <td>105.318504</td>\n",
       "    </tr>\n",
       "    <tr>\n",
       "      <th>22349</th>\n",
       "      <td>590.52</td>\n",
       "      <td>2429.500000</td>\n",
       "      <td>Well 4</td>\n",
       "      <td>0.138733</td>\n",
       "      <td>5.850000</td>\n",
       "      <td>0.689531</td>\n",
       "      <td>53.831029</td>\n",
       "    </tr>\n",
       "    <tr>\n",
       "      <th>22359</th>\n",
       "      <td>590.52</td>\n",
       "      <td>2429.500000</td>\n",
       "      <td>Well 4</td>\n",
       "      <td>0.138733</td>\n",
       "      <td>5.850000</td>\n",
       "      <td>0.551287</td>\n",
       "      <td>114.278557</td>\n",
       "    </tr>\n",
       "    <tr>\n",
       "      <th>22356</th>\n",
       "      <td>590.52</td>\n",
       "      <td>2429.500000</td>\n",
       "      <td>Well 4</td>\n",
       "      <td>0.138733</td>\n",
       "      <td>5.850000</td>\n",
       "      <td>0.602779</td>\n",
       "      <td>92.034998</td>\n",
       "    </tr>\n",
       "    <tr>\n",
       "      <th>22355</th>\n",
       "      <td>590.52</td>\n",
       "      <td>2429.500000</td>\n",
       "      <td>Well 4</td>\n",
       "      <td>0.138733</td>\n",
       "      <td>5.850000</td>\n",
       "      <td>0.619569</td>\n",
       "      <td>84.539666</td>\n",
       "    </tr>\n",
       "    <tr>\n",
       "      <th>4228</th>\n",
       "      <td>47.00</td>\n",
       "      <td>263.995000</td>\n",
       "      <td>Well 5</td>\n",
       "      <td>0.153625</td>\n",
       "      <td>1026.000000</td>\n",
       "      <td>0.037019</td>\n",
       "      <td>1785.747668</td>\n",
       "    </tr>\n",
       "    <tr>\n",
       "      <th>4227</th>\n",
       "      <td>47.00</td>\n",
       "      <td>263.995000</td>\n",
       "      <td>Well 5</td>\n",
       "      <td>0.153625</td>\n",
       "      <td>1026.000000</td>\n",
       "      <td>0.040223</td>\n",
       "      <td>1590.000308</td>\n",
       "    </tr>\n",
       "    <tr>\n",
       "      <th>4226</th>\n",
       "      <td>47.00</td>\n",
       "      <td>263.995000</td>\n",
       "      <td>Well 5</td>\n",
       "      <td>0.153625</td>\n",
       "      <td>1026.000000</td>\n",
       "      <td>0.043961</td>\n",
       "      <td>1413.718588</td>\n",
       "    </tr>\n",
       "    <tr>\n",
       "      <th>4225</th>\n",
       "      <td>47.00</td>\n",
       "      <td>263.995000</td>\n",
       "      <td>Well 5</td>\n",
       "      <td>0.153625</td>\n",
       "      <td>1026.000000</td>\n",
       "      <td>0.048233</td>\n",
       "      <td>1258.276314</td>\n",
       "    </tr>\n",
       "    <tr>\n",
       "      <th>4224</th>\n",
       "      <td>47.00</td>\n",
       "      <td>263.995000</td>\n",
       "      <td>Well 5</td>\n",
       "      <td>0.153625</td>\n",
       "      <td>1026.000000</td>\n",
       "      <td>0.053039</td>\n",
       "      <td>1119.784400</td>\n",
       "    </tr>\n",
       "    <tr>\n",
       "      <th>36586</th>\n",
       "      <td>611.80</td>\n",
       "      <td>872.926000</td>\n",
       "      <td>Well 6</td>\n",
       "      <td>0.083457</td>\n",
       "      <td>21.300000</td>\n",
       "      <td>0.054592</td>\n",
       "      <td>3831.144947</td>\n",
       "    </tr>\n",
       "    <tr>\n",
       "      <th>36580</th>\n",
       "      <td>611.80</td>\n",
       "      <td>872.926000</td>\n",
       "      <td>Well 6</td>\n",
       "      <td>0.083457</td>\n",
       "      <td>21.300000</td>\n",
       "      <td>0.073430</td>\n",
       "      <td>2246.346924</td>\n",
       "    </tr>\n",
       "    <tr>\n",
       "      <th>36587</th>\n",
       "      <td>611.80</td>\n",
       "      <td>872.926000</td>\n",
       "      <td>Well 6</td>\n",
       "      <td>0.083457</td>\n",
       "      <td>21.300000</td>\n",
       "      <td>0.050825</td>\n",
       "      <td>4187.506561</td>\n",
       "    </tr>\n",
       "    <tr>\n",
       "      <th>36585</th>\n",
       "      <td>611.80</td>\n",
       "      <td>872.926000</td>\n",
       "      <td>Well 6</td>\n",
       "      <td>0.083457</td>\n",
       "      <td>21.300000</td>\n",
       "      <td>0.057104</td>\n",
       "      <td>3505.188923</td>\n",
       "    </tr>\n",
       "    <tr>\n",
       "      <th>36584</th>\n",
       "      <td>611.80</td>\n",
       "      <td>872.926000</td>\n",
       "      <td>Well 6</td>\n",
       "      <td>0.083457</td>\n",
       "      <td>21.300000</td>\n",
       "      <td>0.059616</td>\n",
       "      <td>3204.961486</td>\n",
       "    </tr>\n",
       "    <tr>\n",
       "      <th>31847</th>\n",
       "      <td>10.64</td>\n",
       "      <td>131.664000</td>\n",
       "      <td>Well 7</td>\n",
       "      <td>0.011269</td>\n",
       "      <td>0.010000</td>\n",
       "      <td>0.783000</td>\n",
       "      <td>104.793225</td>\n",
       "    </tr>\n",
       "    <tr>\n",
       "      <th>31827</th>\n",
       "      <td>10.64</td>\n",
       "      <td>131.664000</td>\n",
       "      <td>Well 7</td>\n",
       "      <td>0.011269</td>\n",
       "      <td>0.010000</td>\n",
       "      <td>0.783000</td>\n",
       "      <td>10.485383</td>\n",
       "    </tr>\n",
       "    <tr>\n",
       "      <th>31828</th>\n",
       "      <td>10.64</td>\n",
       "      <td>131.664000</td>\n",
       "      <td>Well 7</td>\n",
       "      <td>0.011269</td>\n",
       "      <td>0.010000</td>\n",
       "      <td>0.783000</td>\n",
       "      <td>11.788480</td>\n",
       "    </tr>\n",
       "    <tr>\n",
       "      <th>31829</th>\n",
       "      <td>10.64</td>\n",
       "      <td>131.664000</td>\n",
       "      <td>Well 7</td>\n",
       "      <td>0.011269</td>\n",
       "      <td>0.010000</td>\n",
       "      <td>0.783000</td>\n",
       "      <td>13.253201</td>\n",
       "    </tr>\n",
       "    <tr>\n",
       "      <th>31830</th>\n",
       "      <td>10.64</td>\n",
       "      <td>131.664000</td>\n",
       "      <td>Well 7</td>\n",
       "      <td>0.011269</td>\n",
       "      <td>0.010000</td>\n",
       "      <td>0.783000</td>\n",
       "      <td>14.899750</td>\n",
       "    </tr>\n",
       "  </tbody>\n",
       "</table>\n",
       "</div>"
      ],
      "text/plain": [
       "         Label    Reference Location  Characteristic_1  Characteristic_2  \\\n",
       "0      5335.96   131.932492   Well 1          0.100946          0.453484   \n",
       "2295   5649.84    98.878233   Well 1          0.137093         21.170645   \n",
       "2296   5649.84    98.878233   Well 1          0.137093         21.170645   \n",
       "2297   5649.84    98.878233   Well 1          0.137093         21.170645   \n",
       "2298   5649.84    98.878233   Well 1          0.137093         21.170645   \n",
       "22358   590.52  2429.500000   Well 4          0.138733          5.850000   \n",
       "22349   590.52  2429.500000   Well 4          0.138733          5.850000   \n",
       "22359   590.52  2429.500000   Well 4          0.138733          5.850000   \n",
       "22356   590.52  2429.500000   Well 4          0.138733          5.850000   \n",
       "22355   590.52  2429.500000   Well 4          0.138733          5.850000   \n",
       "4228     47.00   263.995000   Well 5          0.153625       1026.000000   \n",
       "4227     47.00   263.995000   Well 5          0.153625       1026.000000   \n",
       "4226     47.00   263.995000   Well 5          0.153625       1026.000000   \n",
       "4225     47.00   263.995000   Well 5          0.153625       1026.000000   \n",
       "4224     47.00   263.995000   Well 5          0.153625       1026.000000   \n",
       "36586   611.80   872.926000   Well 6          0.083457         21.300000   \n",
       "36580   611.80   872.926000   Well 6          0.083457         21.300000   \n",
       "36587   611.80   872.926000   Well 6          0.083457         21.300000   \n",
       "36585   611.80   872.926000   Well 6          0.083457         21.300000   \n",
       "36584   611.80   872.926000   Well 6          0.083457         21.300000   \n",
       "31847    10.64   131.664000   Well 7          0.011269          0.010000   \n",
       "31827    10.64   131.664000   Well 7          0.011269          0.010000   \n",
       "31828    10.64   131.664000   Well 7          0.011269          0.010000   \n",
       "31829    10.64   131.664000   Well 7          0.011269          0.010000   \n",
       "31830    10.64   131.664000   Well 7          0.011269          0.010000   \n",
       "\n",
       "       Fluid_Fraction  Lab_Pressure  \n",
       "0            0.783000      1.177763  \n",
       "2295         0.425350     24.953852  \n",
       "2296         0.413627     27.309378  \n",
       "2297         0.402214     29.885734  \n",
       "2298         0.391484     32.830142  \n",
       "22358        0.568637    105.318504  \n",
       "22349        0.689531     53.831029  \n",
       "22359        0.551287    114.278557  \n",
       "22356        0.602779     92.034998  \n",
       "22355        0.619569     84.539666  \n",
       "4228         0.037019   1785.747668  \n",
       "4227         0.040223   1590.000308  \n",
       "4226         0.043961   1413.718588  \n",
       "4225         0.048233   1258.276314  \n",
       "4224         0.053039   1119.784400  \n",
       "36586        0.054592   3831.144947  \n",
       "36580        0.073430   2246.346924  \n",
       "36587        0.050825   4187.506561  \n",
       "36585        0.057104   3505.188923  \n",
       "36584        0.059616   3204.961486  \n",
       "31847        0.783000    104.793225  \n",
       "31827        0.783000     10.485383  \n",
       "31828        0.783000     11.788480  \n",
       "31829        0.783000     13.253201  \n",
       "31830        0.783000     14.899750  "
      ]
     },
     "execution_count": 17,
     "metadata": {},
     "output_type": "execute_result"
    }
   ],
   "source": [
    "df.sort_values('Location').groupby('Location').head()"
   ]
  },
  {
   "cell_type": "code",
   "execution_count": 18,
   "metadata": {},
   "outputs": [
    {
     "data": {
      "text/plain": [
       "Label               38976\n",
       "Reference           38976\n",
       "Location            38976\n",
       "Characteristic_1    38976\n",
       "Characteristic_2    38976\n",
       "Fluid_Fraction      38976\n",
       "Lab_Pressure        38976\n",
       "dtype: int64"
      ]
     },
     "execution_count": 18,
     "metadata": {},
     "output_type": "execute_result"
    }
   ],
   "source": [
    "df.count()"
   ]
  },
  {
   "cell_type": "code",
   "execution_count": 25,
   "metadata": {},
   "outputs": [
    {
     "data": {
      "text/html": [
       "<div>\n",
       "<style scoped>\n",
       "    .dataframe tbody tr th:only-of-type {\n",
       "        vertical-align: middle;\n",
       "    }\n",
       "\n",
       "    .dataframe tbody tr th {\n",
       "        vertical-align: top;\n",
       "    }\n",
       "\n",
       "    .dataframe thead th {\n",
       "        text-align: right;\n",
       "    }\n",
       "</style>\n",
       "<table border=\"1\" class=\"dataframe\">\n",
       "  <thead>\n",
       "    <tr style=\"text-align: right;\">\n",
       "      <th></th>\n",
       "      <th>Label</th>\n",
       "      <th>Reference</th>\n",
       "      <th>Location</th>\n",
       "      <th>Characteristic_1</th>\n",
       "      <th>Characteristic_2</th>\n",
       "      <th>Fluid_Fraction</th>\n",
       "      <th>Lab_Pressure</th>\n",
       "    </tr>\n",
       "  </thead>\n",
       "  <tbody>\n",
       "    <tr>\n",
       "      <th>0</th>\n",
       "      <td>5335.96</td>\n",
       "      <td>131.932492</td>\n",
       "      <td>Well 1</td>\n",
       "      <td>0.100946</td>\n",
       "      <td>0.453484</td>\n",
       "      <td>0.783</td>\n",
       "      <td>1.177763</td>\n",
       "    </tr>\n",
       "    <tr>\n",
       "      <th>1</th>\n",
       "      <td>5335.96</td>\n",
       "      <td>131.741956</td>\n",
       "      <td>Well 1</td>\n",
       "      <td>0.100946</td>\n",
       "      <td>0.453484</td>\n",
       "      <td>0.783</td>\n",
       "      <td>1.324983</td>\n",
       "    </tr>\n",
       "    <tr>\n",
       "      <th>2</th>\n",
       "      <td>5335.96</td>\n",
       "      <td>131.741956</td>\n",
       "      <td>Well 1</td>\n",
       "      <td>0.100946</td>\n",
       "      <td>0.453484</td>\n",
       "      <td>0.783</td>\n",
       "      <td>1.472204</td>\n",
       "    </tr>\n",
       "    <tr>\n",
       "      <th>3</th>\n",
       "      <td>5335.96</td>\n",
       "      <td>131.741956</td>\n",
       "      <td>Well 1</td>\n",
       "      <td>0.100946</td>\n",
       "      <td>0.453484</td>\n",
       "      <td>0.783</td>\n",
       "      <td>1.545814</td>\n",
       "    </tr>\n",
       "    <tr>\n",
       "      <th>4</th>\n",
       "      <td>5335.96</td>\n",
       "      <td>131.741956</td>\n",
       "      <td>Well 1</td>\n",
       "      <td>0.100946</td>\n",
       "      <td>0.453484</td>\n",
       "      <td>0.783</td>\n",
       "      <td>1.693034</td>\n",
       "    </tr>\n",
       "  </tbody>\n",
       "</table>\n",
       "</div>"
      ],
      "text/plain": [
       "     Label   Reference Location  Characteristic_1  Characteristic_2  \\\n",
       "0  5335.96  131.932492   Well 1          0.100946          0.453484   \n",
       "1  5335.96  131.741956   Well 1          0.100946          0.453484   \n",
       "2  5335.96  131.741956   Well 1          0.100946          0.453484   \n",
       "3  5335.96  131.741956   Well 1          0.100946          0.453484   \n",
       "4  5335.96  131.741956   Well 1          0.100946          0.453484   \n",
       "\n",
       "   Fluid_Fraction  Lab_Pressure  \n",
       "0           0.783      1.177763  \n",
       "1           0.783      1.324983  \n",
       "2           0.783      1.472204  \n",
       "3           0.783      1.545814  \n",
       "4           0.783      1.693034  "
      ]
     },
     "execution_count": 25,
     "metadata": {},
     "output_type": "execute_result"
    }
   ],
   "source": [
    "df[df['Location'].isin(['Well 1'])].head()"
   ]
  },
  {
   "cell_type": "code",
   "execution_count": 28,
   "metadata": {},
   "outputs": [
    {
     "data": {
      "text/plain": [
       "<matplotlib.axes._subplots.AxesSubplot at 0x7f3d85452908>"
      ]
     },
     "execution_count": 28,
     "metadata": {},
     "output_type": "execute_result"
    },
    {
     "data": {
      "image/png": "[encoded data removed]",
      "text/plain": [
       "<Figure size 432x288 with 1 Axes>"
      ]
     },
     "metadata": {},
     "output_type": "display_data"
    }
   ],
   "source": [
    "df['Characteristic_1'].plot.hist(bins=20)"
   ]
  },
  {
   "cell_type": "code",
   "execution_count": 29,
   "metadata": {},
   "outputs": [
    {
     "data": {
      "text/plain": [
       "<matplotlib.axes._subplots.AxesSubplot at 0x7f3d80ef2e48>"
      ]
     },
     "execution_count": 29,
     "metadata": {},
     "output_type": "execute_result"
    },
    {
     "data": {
      "image/png": "[encoded data removed]",
      "text/plain": [
       "<Figure size 432x288 with 1 Axes>"
      ]
     },
     "metadata": {},
     "output_type": "display_data"
    }
   ],
   "source": [
    "df['Characteristic_2'].plot.hist(bins=20)"
   ]
  },
  {
   "cell_type": "code",
   "execution_count": 31,
   "metadata": {},
   "outputs": [
    {
     "data": {
      "text/plain": [
       "<matplotlib.axes._subplots.AxesSubplot at 0x7f3d7eeae978>"
      ]
     },
     "execution_count": 31,
     "metadata": {},
     "output_type": "execute_result"
    },
    {
     "data": {
      "image/png": "[encoded data removed]",
      "text/plain": [
       "<Figure size 432x288 with 1 Axes>"
      ]
     },
     "metadata": {},
     "output_type": "display_data"
    }
   ],
   "source": [
    "df['Fluid_Fraction'].plot.hist(bins=20)"
   ]
  },
  {
   "cell_type": "code",
   "execution_count": 32,
   "metadata": {},
   "outputs": [
    {
     "data": {
      "text/plain": [
       "<matplotlib.axes._subplots.AxesSubplot at 0x7f3d7ed97c18>"
      ]
     },
     "execution_count": 32,
     "metadata": {},
     "output_type": "execute_result"
    },
    {
     "data": {
      "image/png": "[encoded data removed]",
      "text/plain": [
       "<Figure size 432x288 with 1 Axes>"
      ]
     },
     "metadata": {},
     "output_type": "display_data"
    }
   ],
   "source": [
    "df['Lab_Pressure'].plot.hist(bins=20)"
   ]
  },
  {
   "cell_type": "code",
   "execution_count": null,
   "metadata": {},
   "outputs": [],
   "source": []
  }
 ],
 "metadata": {
  "kernelspec": {
   "display_name": "Python 3",
   "language": "python",
   "name": "python3"
  },
  "language_info": {
   "codemirror_mode": {
    "name": "ipython",
    "version": 3
   },
   "file_extension": ".py",
   "mimetype": "text/x-python",
   "name": "python",
   "nbconvert_exporter": "python",
   "pygments_lexer": "ipython3",
   "version": "3.5.3"
  }
 },
 "nbformat": 4,
 "nbformat_minor": 2
}
