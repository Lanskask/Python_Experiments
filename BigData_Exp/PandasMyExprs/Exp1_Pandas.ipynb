{
 "cells": [
  {
   "cell_type": "markdown",
   "metadata": {},
   "source": [
    "# Pandas my Exp 1"
   ]
  },
  {
   "cell_type": "markdown",
   "metadata": {},
   "source": [
    "# Asf\n",
    "\n",
    "\\$\\sqrt{x^2 + b^2}\\$\n",
    "\n",
    "$\\sqrt{x^2 + b^2}$"
   ]
  },
  {
   "cell_type": "code",
   "execution_count": null,
   "metadata": {},
   "outputs": [],
   "source": [
    "\n",
    "np.set_printoptions()\n",
    "\n",
    "for look, sub_df in data.groupby('look'):\n",
    "    print(look)\n",
    "    print(sub_df.head()). ... \n",
    "\n",
    "    print(sub_df['wage'].median()) # средний доход о группам\n",
    "    data.groupby('looks')[['wage','exper']].agg(np.median)"
   ]
  },
  {
   "cell_type": "code",
   "execution_count": null,
   "metadata": {},
   "outputs": [],
   "source": [
    "pd.crosstab(data['female'], data['married']) \n",
    "# если признаки female, married  - категориальные \n",
    "# (не бесконечное колличество значений)"
   ]
  }
 ],
 "metadata": {
  "kernelspec": {
   "display_name": "Python 3",
   "language": "python",
   "name": "python3"
  },
  "language_info": {
   "codemirror_mode": {
    "name": "ipython",
    "version": 3
   },
   "file_extension": ".py",
   "mimetype": "text/x-python",
   "name": "python",
   "nbconvert_exporter": "python",
   "pygments_lexer": "ipython3",
   "version": "3.5.3"
  }
 },
 "nbformat": 4,
 "nbformat_minor": 2
}
