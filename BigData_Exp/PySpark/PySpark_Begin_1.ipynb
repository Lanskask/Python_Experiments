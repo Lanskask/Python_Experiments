{
 "cells": [
  {
   "cell_type": "code",
   "execution_count": 1,
   "metadata": {},
   "outputs": [
    {
     "name": "stdout",
     "output_type": "stream",
     "text": [
      "3.36\n"
     ]
    }
   ],
   "source": [
    "import findspark\n",
    "findspark.init()\n",
    "import pyspark\n",
    "import random\n",
    "sc = pyspark.SparkContext(appName=\"Pi\")\n",
    "num_samples = 100\n",
    "def inside(p):     \n",
    "  x, y = random.random(), random.random()\n",
    "  return x*x + y*y < 1\n",
    "count = sc.parallelize(range(0, num_samples)).filter(inside).count()\n",
    "pi = 4 * count / num_samples\n",
    "print(pi)\n",
    "# sc.stop()"
   ]
  },
  {
   "cell_type": "code",
   "execution_count": 2,
   "metadata": {},
   "outputs": [],
   "source": [
    "from pyspark import SQLContext\n",
    "sqlContext = SQLContext(sc)"
   ]
  },
  {
   "cell_type": "code",
   "execution_count": 3,
   "metadata": {},
   "outputs": [],
   "source": [
    "df = sqlContext \\\n",
    "    .read.format(\"csv\") \\\n",
    "    .option(\"header\", \"true\") \\\n",
    "    .option(\"inferschema\", \"true\") \\\n",
    "    .option(\"mode\", \"DROPMALFORMED\") \\\n",
    "    .load(\"data/airports.csv\") "
   ]
  },
  {
   "cell_type": "code",
   "execution_count": 6,
   "metadata": {},
   "outputs": [
    {
     "data": {
      "text/plain": [
       "[Row(id=6523, ident='00A', type='heliport', name='Total Rf Heliport', latitude_deg=40.07080078125, longitude_deg=-74.93360137939453, elevation_ft=11, continent='NA', iso_country='US', iso_region='US-PA', municipality='Bensalem', scheduled_service='no', gps_code='00A', iata_code=None, local_code='00A', home_link=None, wikipedia_link=None, keywords=None),\n",
       " Row(id=323361, ident='00AA', type='small_airport', name='Aero B Ranch Airport', latitude_deg=38.704022, longitude_deg=-101.473911, elevation_ft=3435, continent='NA', iso_country='US', iso_region='US-KS', municipality='Leoti', scheduled_service='no', gps_code='00AA', iata_code=None, local_code='00AA', home_link=None, wikipedia_link=None, keywords=None),\n",
       " Row(id=6524, ident='00AK', type='small_airport', name='Lowell Field', latitude_deg=59.94919968, longitude_deg=-151.695999146, elevation_ft=450, continent='NA', iso_country='US', iso_region='US-AK', municipality='Anchor Point', scheduled_service='no', gps_code='00AK', iata_code=None, local_code='00AK', home_link=None, wikipedia_link=None, keywords=None),\n",
       " Row(id=6525, ident='00AL', type='small_airport', name='Epps Airpark', latitude_deg=34.86479949951172, longitude_deg=-86.77030181884766, elevation_ft=820, continent='NA', iso_country='US', iso_region='US-AL', municipality='Harvest', scheduled_service='no', gps_code='00AL', iata_code=None, local_code='00AL', home_link=None, wikipedia_link=None, keywords=None),\n",
       " Row(id=6526, ident='00AR', type='closed', name='Newport Hospital & Clinic Heliport', latitude_deg=35.6087, longitude_deg=-91.254898, elevation_ft=237, continent='NA', iso_country='US', iso_region='US-AR', municipality='Newport', scheduled_service='no', gps_code=None, iata_code=None, local_code=None, home_link=None, wikipedia_link=None, keywords='00AR')]"
      ]
     },
     "execution_count": 6,
     "metadata": {},
     "output_type": "execute_result"
    }
   ],
   "source": [
    "df.head(5)"
   ]
  },
  {
   "cell_type": "code",
   "execution_count": null,
   "metadata": {},
   "outputs": [],
   "source": []
  }
 ],
 "metadata": {
  "kernelspec": {
   "display_name": "Python 3",
   "language": "python",
   "name": "python3"
  },
  "language_info": {
   "codemirror_mode": {
    "name": "ipython",
    "version": 3
   },
   "file_extension": ".py",
   "mimetype": "text/x-python",
   "name": "python",
   "nbconvert_exporter": "python",
   "pygments_lexer": "ipython3",
   "version": "3.5.3"
  }
 },
 "nbformat": 4,
 "nbformat_minor": 2
}
